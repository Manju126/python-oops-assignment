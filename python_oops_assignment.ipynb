{
 "cells": [
  {
   "cell_type": "markdown",
   "metadata": {},
   "source": [
    "#Create a python class named rectangle with attributes length and width.Implement methods to calculate the area and perimeter of the rectangle."
   ]
  },
  {
   "cell_type": "code",
   "execution_count": 29,
   "metadata": {},
   "outputs": [
    {
     "name": "stdout",
     "output_type": "stream",
     "text": [
      "Area of Ractangle :  120\n",
      "Perimeter of Rectangle :  46\n"
     ]
    }
   ],
   "source": [
    "class Rectangle:\n",
    "    def __init__(self, length, width):\n",
    "        self.length = length\n",
    "        self.width = width\n",
    "    \n",
    "    def area(self):\n",
    "        return self.length * self.width\n",
    "        \n",
    "    def perimeter(self):\n",
    "        return 2 * (self.length + self.width)\n",
    "        \n",
    "import math\n",
    "\n",
    "#creat a rectangle object\n",
    "Rectangle = Rectangle(8 , 15)\n",
    "        \n",
    "print(\"Area of Ractangle : \",Rectangle.area())\n",
    "\n",
    "\n",
    "print(\"Perimeter of Rectangle : \",Rectangle.perimeter())"
   ]
  },
  {
   "cell_type": "markdown",
   "metadata": {},
   "source": [
    "#Create a python class circle with attribute radius.Implement methods to calculate the area and circumference of the circle"
   ]
  },
  {
   "cell_type": "code",
   "execution_count": 30,
   "metadata": {},
   "outputs": [
    {
     "name": "stdout",
     "output_type": "stream",
     "text": [
      "Area of circle:  254.34\n",
      "Circumference of circle :  56.52\n"
     ]
    }
   ],
   "source": [
    "class Circle:\n",
    "    def __init__(self, radius):\n",
    "        self.radius = radius\n",
    "        \n",
    "    def area(self):\n",
    "        return 3.14 * self.radius ** 2\n",
    "        \n",
    "    def circumference(self):\n",
    "        return 2 * 3.14 * self.radius\n",
    "import math      \n",
    "circle = Circle(9)       \n",
    "\n",
    "print (\"Area of circle: \",circle.area())\n",
    "\n",
    "\n",
    "print(\"Circumference of circle : \",circle.circumference())\n",
    "\n"
   ]
  },
  {
   "cell_type": "markdown",
   "metadata": {},
   "source": [
    "#Create a Python class Employee with attributes name, salary, and designation. Implement a method to display employee details."
   ]
  },
  {
   "cell_type": "code",
   "execution_count": 31,
   "metadata": {},
   "outputs": [
    {
     "name": "stdout",
     "output_type": "stream",
     "text": [
      "Employee Name :  Mahesh\n",
      "Employee Salary :  100000\n",
      "Employee Designation :  Software Developer\n"
     ]
    }
   ],
   "source": [
    "class Employee:\n",
    "    def __init__(self, name, salary, designation):\n",
    "        self.name = name\n",
    "        self.salary = salary\n",
    "        self.designation = designation\n",
    "\n",
    "    def display_employee_details(self):\n",
    "        print(\"Employee Name : \",self.name)\n",
    "        print(\"Employee Salary : \",self.salary)\n",
    "        print(\"Employee Designation : \",self.designation)\n",
    "\n",
    "\n",
    "Employee_details = Employee(\"Mahesh\" , 100000 , \"Software Developer\")\n",
    "Employee_details.display_employee_details()\n",
    "\n",
    "\n"
   ]
  },
  {
   "cell_type": "markdown",
   "metadata": {},
   "source": [
    "#Create a Python class BankAccount with attributes balance. Implement methods to deposit and withdraw money from the account."
   ]
  },
  {
   "cell_type": "code",
   "execution_count": 32,
   "metadata": {},
   "outputs": [
    {
     "name": "stdout",
     "output_type": "stream",
     "text": [
      "Current Balance : Rs.5000\n",
      "Deposited Rs.1000. New Balance : Rs.6000\n",
      "Withdraw Rs.1200. New Balance : Rs.4800\n",
      "Current Balance : Rs.4800\n"
     ]
    }
   ],
   "source": [
    "class BankAccount:\n",
    "    def __init__(self,balance = 0):\n",
    "        self.balance = balance\n",
    "    def deposit(self,amount):\n",
    "        if amount  > 0:\n",
    "            self.balance += amount\n",
    "            print(f\"Deposited Rs.{amount}. New Balance : Rs.{self.balance}\")\n",
    "\n",
    "        else:\n",
    "            print(\"Invalid Amount\")\n",
    "\n",
    "    def withdraw(self,amount):\n",
    "        if amount > 0 and amount <= self.balance:\n",
    "            self.balance -= amount\n",
    "            print(f\"Withdraw Rs.{amount}. New Balance : Rs.{self.balance}\")\n",
    "\n",
    "        else:\n",
    "            print(\"Insufficient Funds or Invalid Amount\")\n",
    "\n",
    "    def display_balance(self):\n",
    "        print(f\"Current Balance : Rs.{self.balance}\")\n",
    "\n",
    "account = BankAccount(5000)\n",
    "account.display_balance()\n",
    "account.deposit(1000)\n",
    "account.withdraw(1200)\n",
    "account.display_balance()\n",
    "\n"
   ]
  },
  {
   "cell_type": "markdown",
   "metadata": {},
   "source": [
    "#Create a Python class Student with attributes name, age, and grade. Implement a method to determine if a student is eligible for graduation based on their grade (>= 70)."
   ]
  },
  {
   "cell_type": "code",
   "execution_count": 33,
   "metadata": {},
   "outputs": [
    {
     "name": "stdout",
     "output_type": "stream",
     "text": [
      "Jhon is eligible for graduation True\n"
     ]
    }
   ],
   "source": [
    "class student:\n",
    "    def __init__(self, name, age, grade):\n",
    "        self.name = name \n",
    "        self.age = age\n",
    "        self.grade = grade\n",
    "\n",
    "    def is_eligible_for_graduation(self,):\n",
    "        return self.grade >= 70\n",
    "\n",
    "student = student(\"Jhon\", 20 , 90)\n",
    "print(f\"{student.name} is eligible for graduation\",student.is_eligible_for_graduation())"
   ]
  },
  {
   "cell_type": "markdown",
   "metadata": {},
   "source": [
    "#Create a Python class Car with attributes make, model, and year. Implement a method to display the car's details."
   ]
  },
  {
   "cell_type": "code",
   "execution_count": 34,
   "metadata": {},
   "outputs": [
    {
     "name": "stdout",
     "output_type": "stream",
     "text": [
      "Car Make :  Toyota\n",
      "Car Model :  Camry\n",
      "Car year :  2020\n"
     ]
    }
   ],
   "source": [
    "class Car:\n",
    "    def __init__(self, make, model, year):\n",
    "        self.make = make\n",
    "        self.model = model\n",
    "        self.year = year\n",
    "\n",
    "    def display_car_details(self):\n",
    "        print(\"Car Make : \", self.make)\n",
    "        print(\"Car Model : \", self.model)\n",
    "        print(\"Car year : \", self.year)\n",
    "my_car = Car(\"Toyota\" , \"Camry\" , 2020)\n",
    "my_car.display_car_details()\n",
    "\n",
    "\n"
   ]
  },
  {
   "cell_type": "markdown",
   "metadata": {},
   "source": [
    "#Create a Python class Book with attributes title, author, and price. Implement a method to discount the book price by a certain percentage."
   ]
  },
  {
   "cell_type": "code",
   "execution_count": 35,
   "metadata": {},
   "outputs": [
    {
     "name": "stdout",
     "output_type": "stream",
     "text": [
      "After applying a10% discount, The price of 'Harry potter' by self Author  is RS.22.50\n"
     ]
    }
   ],
   "source": [
    "class Book:\n",
    "    def __init__(self, title, author, price):\n",
    "        self.title = title \n",
    "        self.author = author\n",
    "        self.price = price\n",
    "\n",
    "    def discount_price(self,percentage):\n",
    "        \n",
    "        if percentage > 0 and percentage <= 100:\n",
    "            discount_amount = self.price * (percentage / 100)\n",
    "            discount_price = self.price - discount_amount\n",
    "            print(f\"After applying a{percentage}% discount, The price of '{self.title}' by self Author  is RS.{discount_price:.2f}\")\n",
    "            return discount_price\n",
    "        else:\n",
    "            print(\"Zero discount\")\n",
    "            return none\n",
    "           \n",
    "book = Book(\"Harry potter\", \"J.K.Rowling\", 25)\n",
    "descount_price = book.discount_price(10)"
   ]
  },
  {
   "cell_type": "markdown",
   "metadata": {},
   "source": [
    "#Create a Python class Bank with attributes name and location. Implement a method to display the bank's details."
   ]
  },
  {
   "cell_type": "code",
   "execution_count": 36,
   "metadata": {},
   "outputs": [
    {
     "name": "stdout",
     "output_type": "stream",
     "text": [
      "Bank Name :  State bank\n",
      "Bank Location :  India\n"
     ]
    }
   ],
   "source": [
    "class Bank:\n",
    "    def __init__(self, name, location):\n",
    "        self.name = name\n",
    "        self.location = location\n",
    "\n",
    "\n",
    "    def display_details(self):\n",
    "        print(\"Bank Name : \", self.name)\n",
    "        print(\"Bank Location : \", self.location)\n",
    "\n",
    "bank = Bank(\"State bank\", \"India\")\n",
    "bank.display_details()\n",
    "\n",
    "\n",
    "\n",
    "\n",
    "\n"
   ]
  },
  {
   "cell_type": "markdown",
   "metadata": {},
   "source": [
    "#Create a Python class Dog with attributes name and age. Implement a method to determine if the dog is a puppy (age < 1)"
   ]
  },
  {
   "cell_type": "code",
   "execution_count": 37,
   "metadata": {},
   "outputs": [
    {
     "name": "stdout",
     "output_type": "stream",
     "text": [
      "Rocky is a puppy True\n",
      "Maxy is a puppy False\n"
     ]
    }
   ],
   "source": [
    "class Dog:\n",
    "    def __init__(self, name, age):\n",
    "        self.name = name\n",
    "        self.age = age\n",
    "\n",
    "    def is_puppy(self):\n",
    "        return self.age < 1\n",
    "\n",
    "dog_1 = Dog(\"Rocky\", 0.9)\n",
    "print(f\"{dog_1.name} is a puppy\",dog_1.is_puppy())\n",
    "\n",
    "dog_2 = Dog(\"Maxy\", 2)\n",
    "print(f\"{dog_2.name} is a puppy\", dog_2.is_puppy())\n",
    "\n"
   ]
  },
  {
   "cell_type": "markdown",
   "metadata": {},
   "source": [
    "#Create a Python class Shape with an abstract method area(). Implement subclasses Triangle and Square with their own implementations of the area() method."
   ]
  },
  {
   "cell_type": "code",
   "execution_count": 38,
   "metadata": {},
   "outputs": [
    {
     "name": "stdout",
     "output_type": "stream",
     "text": [
      "Area of Triangle :  9.0\n",
      "Area of Square :  16\n"
     ]
    }
   ],
   "source": [
    "from abc import ABC, abstractmethod\n",
    "\n",
    "class shape(ABC):\n",
    "    def area(self):\n",
    "        pass\n",
    "\n",
    "class Triangle(shape):\n",
    "    def __init__(self, base, height):\n",
    "        self.base = base\n",
    "        self.height = height\n",
    "\n",
    "    def area(self):\n",
    "        return 0.5 * self.base * self.height\n",
    "\n",
    "class Square(shape):\n",
    "    def __init__(self,side):\n",
    "        self.side = side\n",
    "\n",
    "    def area(self):\n",
    "        return self.side * self.side\n",
    "\n",
    "triangle = Triangle(6, 3)\n",
    "print(\"Area of Triangle : \", triangle.area())\n",
    "square = Square(4)\n",
    "print(\"Area of Square : \", square.area())"
   ]
  }
 ],
 "metadata": {
  "kernelspec": {
   "display_name": "Python 3",
   "language": "python",
   "name": "python3"
  },
  "language_info": {
   "codemirror_mode": {
    "name": "ipython",
    "version": 3
   },
   "file_extension": ".py",
   "mimetype": "text/x-python",
   "name": "python",
   "nbconvert_exporter": "python",
   "pygments_lexer": "ipython3",
   "version": "3.12.2"
  }
 },
 "nbformat": 4,
 "nbformat_minor": 2
}
